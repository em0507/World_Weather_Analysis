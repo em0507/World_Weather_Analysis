{
 "cells": [
  {
   "cell_type": "code",
   "execution_count": 14,
   "id": "9c12f964",
   "metadata": {},
   "outputs": [],
   "source": [
    "import requests\n",
    "from citipy import citipy\n",
    "from config import weather_api_key\n",
    "import time\n",
    "from datetime import datetime\n",
    "import numpy as np\n",
    "import random\n"
   ]
  },
  {
   "cell_type": "code",
   "execution_count": 113,
   "id": "ea9fd35a",
   "metadata": {},
   "outputs": [],
   "source": [
    "# Create empty list holding city data.\n",
    "cities = []"
   ]
  },
  {
   "cell_type": "code",
   "execution_count": 114,
   "id": "1660a7f0",
   "metadata": {},
   "outputs": [],
   "source": [
    "# Create a set of random latitude and longitude combinations.\n",
    "lats = np.random.uniform(low=-90.000, high=90.000, size=2000)\n",
    "lngs = np.random.uniform(low=-180.000, high=180.000, size=2000)\n",
    "coordinates = zip(lats, lngs)"
   ]
  },
  {
   "cell_type": "code",
   "execution_count": 119,
   "id": "7e38ab43",
   "metadata": {},
   "outputs": [
    {
     "name": "stdout",
     "output_type": "stream",
     "text": [
      "['basoko', 'qaanaaq', 'owando', 'victoria', 'yongan', 'butaritari', 'raudeberg', 'khatanga', 'punta arenas', 'albany', 'hermanus', 'atuona', 'meulaboh', 'sao joao da barra', 'mataura', 'bathsheba', 'ushuaia', 'chapais', 'avarua', 'kholm', 'tomatlan', 'preobrazheniye', 'busselton', 'hilo', 'pisco', 'noyabrsk', 'ambon', 'half moon bay', 'saskylakh', 'klaksvik', 'camden', 'illoqqortoormiut', 'mokhsogollokh', 'santa lucia', 'black river', 'castro', 'carnarvon', 'severo-kurilsk', 'rikitea', 'roma', 'polunochnoye', 'hun', 'stende', 'vestmannaeyjar', 'arman', 'wanning', 'tasiilaq', 'tagusao', 'ribeira grande', 'gorontalo', 'jardim', 'gobabis', 'lerwick', 'sarangani', 'san policarpo', 'haines junction', 'bredasdorp', 'santa isabel', 'dunedin', 'yellowknife', 'hamilton', 'salinopolis', 'sao domingos', 'norman wells', 'cockburn town', 'katsuura', 'hobyo', 'kavaratti', 'mys shmidta', 'husavik', 'taolanaro', 'hasaki', 'havre-saint-pierre', 'cape town', 'tuktoyaktuk', 'samusu', 'nishihara', 'taoudenni', 'cabedelo', 'tazovskiy', 'nisia floresta', 'oranjemund', 'jamestown', 'baykit', 'bluff', 'port elizabeth', 'saint george', 'codrington', 'nindiri', 'moron', 'vaini', 'puerto ayora', 'kuzovatovo', 'kapaa', 'clyde river', 'nikolskoye', 'georgetown', 'mount gambier', 'natal', 'hithadhoo', 'torbay', 'airai', 'new norfolk', 'anloga', 'chuy', 'sentyabrskiy', 'amderma', 'ponta do sol', 'provideniya', 'moa', 'kruisfontein', 'bartica', 'kamenka', 'avera', 'bengkulu', 'hovd', 'cagayan de tawi-tawi', 'sinkat', 'lata', 'carutapera', 'touros', 'aitape', 'chimbote', 'lebu', 'port-gentil', 'port alfred', 'stockbridge', 'port augusta', 'maralal', 'chornobay', 'saint-francois', 'saint-philippe', 'chadiza', 'dwarka', 'ostersund', 'sosnovo-ozerskoye', 'kagadi', 'waingapu', 'nizhniy kuranakh', 'bambous virieux', 'saleaula', 'ulaangom', 'margate', 'mumford', 'sitka', 'mar del plata', 'port keats', 'grindavik', 'tilichiki', 'college', 'kolosovka', 'lagoa', 'andenes', 'port hardy', 'ola', 'guajara-mirim', 'aflu', 'galich', 'beatrice', 'kulhudhuffushi', 'geresk', 'nagapattinam', 'kodiak', 'jacareacanga', 'aswan', 'imperatriz', 'diamantino', 'amga', 'mareeba', 'thio', 'tessalit', 'werda', 'ancud', 'kudahuvadhoo', 'yar-sale', 'saint-augustin', 'tuatapere', 'ust-karsk', 'ishigaki', 'barcelos', 'bereda', 'hobart', 'chokurdakh', 'bethel', 'sur', 'los llanos de aridane', 'cidreira', 'euclides da cunha', 'valparaiso', 'sungairaya', 'charlestown', 'great falls', 'lorengau', 'grand river south east', 'pevek', 'kavieng', 'hargeysa', 'ramsi', 'sioux lookout', 'nizhneyansk', 'east london', 'tsihombe', 'riberalta', 'saint-joseph', 'dikson', 'elliot', 'tiksi', 'mahebourg', 'bria', 'aden', 'chiredzi', 'broken hill', 'yining', 'aguimes', 'grand gaube', 'saint-georges', 'sorong', 'ridgecrest', 'orgun', 'jinchang', 'barrow', 'westport', 'shawville', 'nampula', 'mehamn', 'grants', 'sri aman', 'algiers', 'farah', 'kamalasai', 'sinnamary', 'leningradskiy', 'palestina', 'faanui', 'tartagal', 'lavrentiya', 'alamos', 'mancio lima', 'alofi', 'domoni', 'baiyin', 'luderitz', 'dagda', 'luwuk', 'broome', 'shkoder', 'upernavik', 'puerto narino', 'kokopo', 'kununurra', 'labuhan', 'coihaique', 'arraial do cabo', 'pyshma', 'chumikan', 'krasnoselkup', 'qaqortoq', 'faya', 'moron de la frontera', 'srednekolymsk', 'cayenne', 'turukhansk', 'carballo', 'kristiansand', 'bastia', 'ouadda', 'abu samrah', 'lompoc', 'lekoni', 'barentsburg', 'harlingen', 'sfantu gheorghe', 'jieshi', 'cherskiy', 'fairview', 'canakkale', 'saint-pierre', 'hirara', 'pulaski', 'makubetsu', 'bargal', 'sonoita', 'prince rupert', 'kirakira', 'teahupoo', 'beringovskiy', 'henties bay', 'vao', 'bubaque', 'tokur', 'marsh harbour', 'bima', 'olafsvik', 'tumannyy', 'poum', 'secunda', 'ostercappeln', 'esna', 'kaitangata', 'nalut', 'mungwi', 'karakol', 'kahului', 'geraldton', 'meyungs', 'namatanai', 'tromso', 'yanan', 'bardiyah', 'hadejia', 'louisbourg', 'lasa', 'esperance', 'vardo', 'yulara', 'lolodorf', 'labutta', 'baherden', 'surajgarh', 'ust-nera', 'necochea', 'mrirt', 'maragogi', 'gopalpur', 'chifeng', 'aripuana', 'leshukonskoye', 'sorvag', 'nemuro', 'murgab', 'kibaya', 'iqaluit', 'nicoya', 'ovsyanka', 'mozarlandia', 'sibolga', 'pimentel', 'fortuna', 'cabo san lucas', 'comodoro rivadavia', 'porto walter', 'aykhal', 'ilulissat', 'souillac', 'vila franca do campo', 'bonavista', 'khonsa', 'matamoros', 'solsvik', 'os', 'moorhead', 'changping', 'okhotsk', 'rafaela', 'nome', 'thompson', 'aklavik', 'belushya guba', 'amahai', 'acarau', 'jiwani', 'paamiut', 'tottori', 'pangnirtung', 'lingyuan', 'talnakh', 'ulladulla', 'galle', 'camocim', 'nakhon thai', 'elektrenai', 'oskaloosa', 'ayer itam', 'boa vista', 'hearst', 'tortoli', 'thunder bay', 'naze', 'port lincoln', 'puerto cabezas', 'marabba', 'bilibino', 'pangai', 'narsaq', 'biak', 'mandalgovi', 'cap malheureux', 'killarney', 'peace river', 'constantine', 'misratah', 'dubrovka', 'maniitsoq', 'portland', 'guiratinga', 'bobo dioulasso', 'bursol', 'karpathos', 'viedma', 'hualmay', 'dali', 'muros', 'khormuj', 'gold coast', 'goderich', 'vanavara', 'taber', 'palmer', 'tayshet', 'peniche', 'villamontes', 'yeppoon', 'coari', 'flinders', 'dudinka', 'porto murtinho', 'saravan', 'muroto', 'tiznit', 'santiago', 'red wing', 'oranjestad', 'balkhash', 'linping', 'enumclaw', 'aksu', 'worland', 'namibe', 'umm kaddadah', 'mitsamiouli', 'sovetskiy', 'matao', 'kamina', 'ayios matthaios', 'tuensang', 'plotnikovo', 'marsabit', 'hambantota', 'jorhat', 'koumac', 'kiruna', 'krasnoufimsk', 'nova olinda do norte', 'palabuhanratu', 'houma', 'omsukchan', 'prabumulih', 'lokosovo', 'tallahassee', 'kieta', 'walvis bay', 'mayumba', 'pacific grove', 'lensk', 'madera', 'dothan', 'marsa matruh', 'richards bay', 'mbanza-ngungu', 'bacolod', 'constitucion', 'albanel', 'wainwright', 'claremore', 'staryy nadym', 'muzhi', 'korla', 'duluth', 'basco', 'shelburne', 'pindiga', 'rocha', 'tanete', 'bridlington', 'the valley', 'makakilo city', 'san quintin', 'petauke', 'tevaitoa', 'hurghada', 'bambamarca', 'asau', 'colares', 'moerai', 'quepos', 'andra', 'saraland', 'nanortalik', 'mao', 'san cristobal', 'gambela', 'tsuchiura', 'salalah', 'ternate', 'san andres', 'kikwit', 'virginia beach', 'middlebury', 'semey', 'nam tha', 'inhambane', 'wulanhaote', 'jiaocheng', 'deputatskiy', 'camacha', 'afmadu', 'sesheke', 'vostok', 'powell', 'leh', 'gimli', 'porto novo', 'belmonte', 'attawapiskat', 'abha', 'oktyabrskiy', 'sweetwater', 'doctor pedro p. pena', 'takoradi', 'fukue', 'kuala kedah', 'isangel', 'washougal', 'doha', 'coffs harbour', 'halalo', 'karwar', 'hjelset', 'havre', 'angoche', 'bull savanna', 'trollhattan', 'gladstone', 'brae', 'pingzhuang', 'manica', 'conde', 'ibra', 'northport', 'achisay', 'les cayes', 'yangshan', 'sao filipe', 'aksarka', 'kailua', 'la libertad', 'santa maria', 'vaitupu', 'huarmey', 'ponta delgada', 'karratha', 'cairns', 'kazerun', 'ilebo', 'cocobeach', 'nelson bay', 'marquette', 'vigrestad', 'camapua', 'moche', 'atbasar', 'marawi', 'vuktyl', 'bogale', 'christchurch', 'akdagmadeni', 'alibag', 'envira', 'cap-aux-meules', 'banjar', 'sidney', 'san luis', 'gamba', 'nampa', 'osoyoos', 'oum hadjer', 'gornopravdinsk', 'hinton', 'armacao dos buzios', 'caruray', 'osa', 'ekhabi', 'dolores', 'waynesville', 'greenwood', 'port hedland', 'tamandare', 'brigantine', 'karamay', 'shreveport', 'kalabagh', 'khandyga', 'talaya', 'belomorsk', 'alta floresta', 'mananjary', 'acaponeta', 'morondava', 'hofn', 'wawa', 'miguel pereira', 'ler', 'wuda', 'coquimbo', 'lima', 'dixon', 'alice springs', 'kaputa', 'dabakala', 'race', 'kuche', 'acapulco', 'kushima', 'moussoro', 'vangaindrano', 'camana', 'markova', 'seymchan', 'xining', 'saint anthony', 'zyryanka', 'hay river', 'axim', 'zhob', 'majdanpek', 'sumbe', 'torbat-e jam', 'teruel', 'saldanha', 'troitskoye', 'vastervik', 'la ronge', 'quthing', 'patnanungan', 'lolua', 'juneau', 'aksum', 'rapid city', 'tayu', 'toliary', 'towada', 'sokoni', 'mingyue', 'ardakan', 'sabang', 'bacuit', 'tashtagol', 'xiangxiang', 'quang ngai', 'harlow', 'ileza', 'salina', 'bahia honda', 'bahia de caraquez', 'solnechnyy', 'laguna', 'kutum', 'artyk', 'iranshahr', 'dabou', 'aleksandrov gay', 'port-cartier', 'kamaishi', 'sawtell', 'irbil', 'longyearbyen', 'sorland', 'bolungarvik', 'sobolevo', 'san patricio', 'lac du bonnet', 'barreirinhas', 'batemans bay', 'nador', 'bolobo', 'winnetka', 'malkapur', 'petropavlovka', 'san lawrenz', 'fuengirola', 'yershov', 'riyadh', 'krasnovishersk', 'svetlyy', 'fairbanks', 'ostrovnoy', 'itarema', 'cacoal', 'maridi', 'maku', 'stawell', 'kaka', 'gayny', 'umzimvubu', 'jiaxing', 'ligayan', 'port shepstone', 'nabire', 'kodinsk', 'lazaro cardenas', 'guerrero negro', 'aba', 'shancheng', 'jaguaruna', 'kushiro', 'katangli', 'mangaratiba', 'lhuntshi', 'borger', 'solovetskiy', 'mogadishu', 'bongaigaon', 'pyapon', 'wakkanai', 'karkaralinsk', 'mandera', 'aljezur', 'caravelas', 'trujillo', 'plettenberg bay', 'deg', 'aktau', 'quelimane', 'tapes', 'gunjur', 'umm lajj', 'eureka', 'novo aripuana', 'ewo', 'atocha', 'muisne', 'griffith', 'fengrun', 'middelkerke', 'sangar', 'tetovo', 'turangi', 'tarn taran', 'brokopondo', 'mari-turek', 'mildura', 'bolshaya glushitsa', 'pak phanang', 'santarem', 'atar', 'nguruka', 'zhigansk', 'bogorodskoye', 'yima', 'szczytno', 'coahuayana', 'samarai', 'srandakan', 'cedar city', 'morehead', 'ahipara', 'zima', 'karaidel', 'crab hill', 'santiago del estero', 'north platte']\n"
     ]
    }
   ],
   "source": [
    "#Loop through cordinates to find closest cities\n",
    "for coordinate in coordinates:\n",
    "    city = citipy.nearest_city(coordinate[0], coordinate[1]).city_name\n",
    "\n",
    "    # If the city is unique, then we will add it to the cities list.\n",
    "    if city not in cities:\n",
    "        cities.append(city)\n",
    "# Print the city count to confirm sufficient count.\n",
    "print(cities)"
   ]
  },
  {
   "cell_type": "code",
   "execution_count": null,
   "id": "1c5858bb",
   "metadata": {},
   "outputs": [],
   "source": []
  },
  {
   "cell_type": "code",
   "execution_count": null,
   "id": "f48d6a72",
   "metadata": {},
   "outputs": [],
   "source": [
    "\n"
   ]
  },
  {
   "cell_type": "code",
   "execution_count": 34,
   "id": "ee74eb9d",
   "metadata": {},
   "outputs": [],
   "source": [
    "# Create an empty list to hold the weather data.\n",
    "city_data = []\n",
    "\n",
    "# Create counters.\n",
    "record_count = 1\n",
    "set_count = 1"
   ]
  },
  {
   "cell_type": "code",
   "execution_count": 35,
   "id": "81d019ab",
   "metadata": {},
   "outputs": [],
   "source": [
    "# Starting URL for Weather Map API Call.\n",
    "url = \"http://api.openweathermap.org/data/2.5/weather?units=Imperial&APPID=\" + weather_api_key"
   ]
  },
  {
   "cell_type": "code",
   "execution_count": 25,
   "id": "04967593",
   "metadata": {},
   "outputs": [],
   "source": [
    "city_url = url + \"&q=\" + \"Boston\""
   ]
  },
  {
   "cell_type": "code",
   "execution_count": 26,
   "id": "348f4b31",
   "metadata": {},
   "outputs": [
    {
     "name": "stdout",
     "output_type": "stream",
     "text": [
      "{'coord': {'lon': -71.0598, 'lat': 42.3584}, 'weather': [{'id': 800, 'main': 'Clear', 'description': 'clear sky', 'icon': '01d'}], 'base': 'stations', 'main': {'temp': 39.65, 'feels_like': 32.04, 'temp_min': 35.94, 'temp_max': 42.49, 'pressure': 1008, 'humidity': 50}, 'visibility': 10000, 'wind': {'speed': 13, 'deg': 360, 'gust': 28.01}, 'clouds': {'all': 6}, 'dt': 1638547104, 'sys': {'type': 2, 'id': 2013408, 'country': 'US', 'sunrise': 1638532579, 'sunset': 1638565943}, 'timezone': -18000, 'id': 4930956, 'name': 'Boston', 'cod': 200}\n"
     ]
    }
   ],
   "source": [
    "city_weather = requests.get(city_url)\n",
    "print(city_weather.json())"
   ]
  },
  {
   "cell_type": "code",
   "execution_count": 12,
   "id": "1eb28f5c",
   "metadata": {},
   "outputs": [],
   "source": [
    "import random\n",
    "\n",
    "x = 1\n",
    "latitudes = []\n",
    "while x < 11:\n",
    "    random_lat = random.randint(-90, 89) + random.random()\n",
    "    latitudes.append(random_lat)\n",
    "    x += 1"
   ]
  },
  {
   "cell_type": "code",
   "execution_count": 16,
   "id": "02f395dd",
   "metadata": {},
   "outputs": [],
   "source": [
    "# Loop through all the cities in the list.\n",
    "for i, city in enumerate(cities):\n",
    "\n",
    "    # Group cities in sets of 50 for logging purposes.\n",
    "    if (i % 50 == 0 and i >= 50):\n",
    "        set_count += 1\n",
    "        record_count = 1\n",
    "        time.sleep(60)\n",
    "\n",
    "    # Create endpoint URL with each city.\n",
    "    city_url = url + \"&q=\" + city.replace(\" \",\"+\")\n",
    "\n",
    "    # Log the URL, record, and set numbers and the city.\n",
    "    print(f\"Processing Record {record_count} of Set {set_count} | {city}\")\n",
    "    # Add 1 to the record count.\n",
    "    record_count += 1\n",
    "    "
   ]
  },
  {
   "cell_type": "code",
   "execution_count": 11,
   "id": "b5b0affd",
   "metadata": {},
   "outputs": [
    {
     "data": {
      "text/plain": [
       "0"
      ]
     },
     "execution_count": 11,
     "metadata": {},
     "output_type": "execute_result"
    }
   ],
   "source": [
    "# Create a list for holding the cities.\n",
    "cities = []\n",
    "coordinates = []\n",
    "# Identify the nearest city for each latitude and longitude combination.\n",
    "for coordinate in coordinates:\n",
    "    city = citipy.nearest_city(coordinate[0], coordinate[1]).city_name\n",
    "\n",
    "    # If the city is unique, then we will add it to the cities list.\n",
    "    if city not in cities:\n",
    "        cities.append(city)\n",
    "# Print the city count to confirm sufficient count.\n",
    "len(cities)"
   ]
  },
  {
   "cell_type": "code",
   "execution_count": 17,
   "id": "40f252fe",
   "metadata": {},
   "outputs": [
    {
     "ename": "IndentationError",
     "evalue": "unexpected indent (Temp/ipykernel_20584/2874138602.py, line 2)",
     "output_type": "error",
     "traceback": [
      "\u001b[1;36m  File \u001b[1;32m\"C:\\Users\\emily\\AppData\\Local\\Temp/ipykernel_20584/2874138602.py\"\u001b[1;36m, line \u001b[1;32m2\u001b[0m\n\u001b[1;33m    try:\u001b[0m\n\u001b[1;37m    ^\u001b[0m\n\u001b[1;31mIndentationError\u001b[0m\u001b[1;31m:\u001b[0m unexpected indent\n"
     ]
    }
   ],
   "source": [
    "# Run an API request for each of the cities.\n",
    "    try:\n",
    "        # Parse the JSON and retrieve data.\n",
    "        city_weather = requests.get(city_url).json()\n",
    "        # Parse out the needed data.\n",
    "        city_lat = city_weather[\"coord\"][\"lat\"]\n",
    "        city_lng = city_weather[\"coord\"][\"lon\"]\n",
    "        city_max_temp = city_weather[\"main\"][\"temp_max\"]\n",
    "        city_humidity = city_weather[\"main\"][\"humidity\"]\n",
    "        city_clouds = city_weather[\"clouds\"][\"all\"]\n",
    "        city_wind = city_weather[\"wind\"][\"speed\"]\n",
    "        city_country = city_weather[\"sys\"][\"country\"]\n",
    "        # Convert the date to ISO standard.\n",
    "        city_date = datetime.utcfromtimestamp(city_weather[\"dt\"]).strftime('%Y-%m-%d %H:%M:%S')\n",
    "        # Append the city information into city_data list.\n",
    "        city_data.append({\"City\": city.title(),\n",
    "                          \"Lat\": city_lat,\n",
    "                          \"Lng\": city_lng,\n",
    "                          \"Max Temp\": city_max_temp,\n",
    "                          \"Humidity\": city_humidity,\n",
    "                          \"Cloudiness\": city_clouds,\n",
    "                          \"Wind Speed\": city_wind,\n",
    "                          \"Country\": city_country,\n",
    "                          \"Date\": city_date})\n",
    "\n",
    "# If an error is experienced, skip the city.\n",
    "    except:\n",
    "        print(\"City not found. Skipping...\")\n",
    "        pass\n",
    "\n",
    "# Indicate that Data Loading is complete.\n",
    "print(\"-----------------------------\")\n",
    "print(\"Data Retrieval Complete      \")\n",
    "print(\"-----------------------------\")"
   ]
  },
  {
   "cell_type": "code",
   "execution_count": null,
   "id": "08077feb",
   "metadata": {},
   "outputs": [],
   "source": [
    "city_data_df = pd.DataFrame(city_data)\n",
    "city_data_df.head(10)"
   ]
  }
 ],
 "metadata": {
  "kernelspec": {
   "display_name": "PythonData",
   "language": "python",
   "name": "pythondata"
  },
  "language_info": {
   "codemirror_mode": {
    "name": "ipython",
    "version": 3
   },
   "file_extension": ".py",
   "mimetype": "text/x-python",
   "name": "python",
   "nbconvert_exporter": "python",
   "pygments_lexer": "ipython3",
   "version": "3.8.12"
  }
 },
 "nbformat": 4,
 "nbformat_minor": 5
}
